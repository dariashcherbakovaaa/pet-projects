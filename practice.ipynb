{
 "cells": [
  {
   "cell_type": "markdown",
   "metadata": {},
   "source": [
    "https://datalemur.com/questions?difficulty=Easy&category=Python"
   ]
  },
  {
   "cell_type": "markdown",
   "metadata": {},
   "source": [
    "### 1. Factorial Formula\n",
    "Given a number n, write a formula that returns n!."
   ]
  },
  {
   "cell_type": "code",
   "execution_count": 30,
   "metadata": {},
   "outputs": [
    {
     "data": {
      "text/plain": [
       "120"
      ]
     },
     "execution_count": 30,
     "metadata": {},
     "output_type": "execute_result"
    }
   ],
   "source": [
    "def factorial(n):\n",
    "  if n == 0:\n",
    "    return 1\n",
    "  else:\n",
    "    fac = 1\n",
    "    for i in range(1, n+1):\n",
    "      fac *= i\n",
    "  return fac\n",
    "\n",
    "factorial(5)"
   ]
  },
  {
   "cell_type": "markdown",
   "metadata": {},
   "source": [
    "### 2. Fizz Buzz Sum\n",
    "Write a function fizz_buzz_sum to find the sum of all multiples of 3 or 5 below a target value.\n",
    "For example, if the target value was 10, the multiples of 3 or 5 below 8 are 3, 5, 6, and 9."
   ]
  },
  {
   "cell_type": "code",
   "execution_count": 53,
   "metadata": {},
   "outputs": [
    {
     "data": {
      "text/plain": [
       "23"
      ]
     },
     "execution_count": 53,
     "metadata": {},
     "output_type": "execute_result"
    }
   ],
   "source": [
    "def fizz_buzz_sum(target):\n",
    "    summ = 0\n",
    "    for i in range(1, target):\n",
    "        if i % 3 == 0 or i % 5 == 0:\n",
    "            summ+=i\n",
    "    return summ\n",
    "\n",
    "fizz_buzz_sum(10)"
   ]
  },
  {
   "cell_type": "markdown",
   "metadata": {},
   "source": [
    "### 3. Intersection of Two Lists\n",
    "Write a function to get the intersection of two lists.\n",
    "For example, if A = [1, 2, 3, 4, 5], and B = [0, 1, 3, 7] then you should return [1, 3]."
   ]
  },
  {
   "cell_type": "code",
   "execution_count": 60,
   "metadata": {},
   "outputs": [
    {
     "data": {
      "text/plain": [
       "[1, 3]"
      ]
     },
     "execution_count": 60,
     "metadata": {},
     "output_type": "execute_result"
    }
   ],
   "source": [
    "A = [1,2,3,4,5]\n",
    "B = [0, 1, 3, 7]\n",
    "list(set(A)&set(B))\n",
    "\n",
    "[i for i in A if i in B]"
   ]
  },
  {
   "cell_type": "code",
   "execution_count": 68,
   "metadata": {},
   "outputs": [
    {
     "data": {
      "text/plain": [
       "[1, 3]"
      ]
     },
     "execution_count": 68,
     "metadata": {},
     "output_type": "execute_result"
    }
   ],
   "source": [
    "def intersection(a, b):\n",
    "  return [i for i in a if i in b]\n",
    "\n",
    "intersection([1,2,3,4,5], [0, 1, 3, 7])"
   ]
  },
  {
   "cell_type": "code",
   "execution_count": 69,
   "metadata": {},
   "outputs": [
    {
     "data": {
      "text/plain": [
       "[1, 3]"
      ]
     },
     "execution_count": 69,
     "metadata": {},
     "output_type": "execute_result"
    }
   ],
   "source": [
    "def intersection(a, b):\n",
    "  return list(set(a) & set(b))\n",
    "\n",
    "intersection([1,2,3,4,5], [0, 1, 3, 7])"
   ]
  },
  {
   "cell_type": "markdown",
   "metadata": {},
   "source": [
    "### 4. Missing Integer\n",
    "Given an input list containing n distinct numbers in the range 0 to n, return the only number in the range that is missing from the list.\n",
    "\n",
    "For example, given input = [0,1,3], return 2. Because the input list has 3 elements in it, we expect to see the numbers 0 to 3 in there, but 2 is missing.\n",
    "\n",
    "Another example: given input = [4, 3, 2, 1], return 0. We return 0 becuase the input list has 4 elements in it, so we expect to see the numbers 0 to 4 in there, but 0 itself is missing!"
   ]
  },
  {
   "cell_type": "code",
   "execution_count": 84,
   "metadata": {},
   "outputs": [
    {
     "name": "stdout",
     "output_type": "stream",
     "text": [
      "0\n",
      "2\n"
     ]
    }
   ],
   "source": [
    "def missing_int(lists):\n",
    "    l = [i for i in range(max(lists)+1)]\n",
    "    for i in l:\n",
    "        if i not in lists:\n",
    "            return(i)\n",
    "        \n",
    "print(missing_int([4,3,2,1]))\n",
    "print(missing_int([0,1,3]))"
   ]
  },
  {
   "cell_type": "markdown",
   "metadata": {},
   "source": [
    "### 5. Contains Duplicate\n",
    "Given an list of integers called input, return True if any value appears at least twice in the array. Return False if every element in the input list is distinct.\n",
    "\n",
    "For example, if the input list was [1,3,5,7,1], then return True because the number 1 shows up twice.\n",
    "\n",
    "However, if the input was [1,3,5,7] then return False, because every element of the list is distinct."
   ]
  },
  {
   "cell_type": "code",
   "execution_count": 134,
   "metadata": {},
   "outputs": [
    {
     "name": "stdout",
     "output_type": "stream",
     "text": [
      "True\n",
      "False\n"
     ]
    }
   ],
   "source": [
    "def contains_duplicate(lists):\n",
    "    num_set = set(lists)\n",
    "    return len(lists) != len(num_set)\n",
    "\n",
    "print(contains_duplicate([1,3,5,7,1]))\n",
    "print(contains_duplicate([1,3,5,7]))"
   ]
  },
  {
   "cell_type": "markdown",
   "metadata": {},
   "source": [
    "### 6. Salary Inequity\n",
    "Given a list of salaries, we'll define a metric called inequity which is the difference between max and min salary seen in the list. Write a function called min_inequity which takes in a list of salaries, and a value n, and returns the minimum inequity possible when taking n salaries from the full salary list.\n",
    "\n",
    "salaries = [60000, 80000, 120000, 70000]\n",
    "n = 2\n",
    "The minimum inequity is $10,000\n",
    "\n",
    "salaries = [60000, 80000, 120000, 70000]\n",
    "n = 3\n",
    "The minimum inequity is $20,000"
   ]
  },
  {
   "cell_type": "code",
   "execution_count": 156,
   "metadata": {},
   "outputs": [
    {
     "name": "stdout",
     "output_type": "stream",
     "text": [
      "20000\n",
      "10000\n"
     ]
    }
   ],
   "source": [
    "def min_inequity(salaries, n):\n",
    "    k = []\n",
    "    for i in range(n):\n",
    "        k.append(min(salaries))\n",
    "        salaries.remove(min(salaries))\n",
    "    return max(k) - min(k)\n",
    "\n",
    "print(min_inequity([60000, 80000, 120000, 70000], 3))\n",
    "print(min_inequity([60000, 80000, 120000, 70000], 2))"
   ]
  },
  {
   "cell_type": "markdown",
   "metadata": {},
   "source": [
    "### 7. Max Profit Trading Stocks\n",
    "You are given a list of stock prices, where the stock's price on the ith day is stored as the ith element of the prices list.\n",
    "You want to maximize your profit trading the stock, but are only allowed to buy the stock once and sell it once on a future day.\n",
    "Write a function called max_profit which takes in this list of stock prices, and computes the max profit possible. Return 0 if you can't make any profit.\n",
    "\n",
    "prices = [9, 1, 3, 6, 4, 8, 3, 5, 5], max profit possible is 7, to buy on day 2 (price = 1) and sell on day 6 (price = 8), so [8 - 1 = 7]\n",
    "\n",
    "prices = [6, 4, 3, 3, 2] Output: 0 Explanation: In this case, no trades should be made since the stock is tanking like a brick. The max profit here is 0.\n",
    "\n"
   ]
  },
  {
   "cell_type": "code",
   "execution_count": 185,
   "metadata": {},
   "outputs": [
    {
     "name": "stdout",
     "output_type": "stream",
     "text": [
      "7\n",
      "0\n"
     ]
    }
   ],
   "source": [
    "def max_subarray_sum(prices):\n",
    "\treturn max(prices[prices.index(min(prices)):]) - min(prices)\n",
    "\n",
    "print(max_subarray_sum([9, 1, 3, 6, 4, 8, 3, 5, 5]))\n",
    "print(max_subarray_sum([6, 4, 3, 3, 2]))\n"
   ]
  }
 ],
 "metadata": {
  "kernelspec": {
   "display_name": "Python 3",
   "language": "python",
   "name": "python3"
  },
  "language_info": {
   "codemirror_mode": {
    "name": "ipython",
    "version": 3
   },
   "file_extension": ".py",
   "mimetype": "text/x-python",
   "name": "python",
   "nbconvert_exporter": "python",
   "pygments_lexer": "ipython3",
   "version": "3.11.5"
  }
 },
 "nbformat": 4,
 "nbformat_minor": 2
}
