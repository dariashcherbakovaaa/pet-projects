{
  "nbformat": 4,
  "nbformat_minor": 0,
  "metadata": {
    "colab": {
      "provenance": [],
      "authorship_tag": "ABX9TyNn1TpNiVCuchfNHzR4Tmtp",
      "include_colab_link": true
    },
    "kernelspec": {
      "name": "python3",
      "display_name": "Python 3"
    },
    "language_info": {
      "name": "python"
    }
  },
  "cells": [
    {
      "cell_type": "markdown",
      "metadata": {
        "id": "view-in-github",
        "colab_type": "text"
      },
      "source": [
        "<a href=\"https://colab.research.google.com/github/dariashcherbakovaaa/pet-projects/blob/main/numpy_lec.ipynb\" target=\"_parent\"><img src=\"https://colab.research.google.com/assets/colab-badge.svg\" alt=\"Open In Colab\"/></a>"
      ]
    },
    {
      "cell_type": "code",
      "execution_count": 3,
      "metadata": {
        "id": "7YYaOyoD217G"
      },
      "outputs": [],
      "source": [
        "import numpy as np\n",
        "import matplotlib.pyplot as plt"
      ]
    },
    {
      "cell_type": "code",
      "source": [
        "A = np.random.randint(0,100,5000)\n",
        "print(A)\n",
        "\n",
        "plt.hist(A, bins=100)\n",
        "plt.show()"
      ],
      "metadata": {
        "colab": {
          "base_uri": "https://localhost:8080/",
          "height": 450
        },
        "id": "kg0ass3Y9NMG",
        "outputId": "b2fd2900-3a53-4b1c-819b-ad91ded051e7"
      },
      "execution_count": 12,
      "outputs": [
        {
          "output_type": "stream",
          "name": "stdout",
          "text": [
            "[30 48 72 ... 29 82 22]\n"
          ]
        },
        {
          "output_type": "display_data",
          "data": {
            "text/plain": [
              "<Figure size 640x480 with 1 Axes>"
            ],
            "image/png": "[encoded data removed]"
          },
          "metadata": {}
        }
      ]
    },
    {
      "cell_type": "code",
      "source": [
        "100 in A"
      ],
      "metadata": {
        "colab": {
          "base_uri": "https://localhost:8080/"
        },
        "id": "pnwSGOHK_Jmc",
        "outputId": "99e05844-c1b0-45d3-f390-54d50d68de1f"
      },
      "execution_count": 14,
      "outputs": [
        {
          "output_type": "execute_result",
          "data": {
            "text/plain": [
              "False"
            ]
          },
          "metadata": {},
          "execution_count": 14
        }
      ]
    },
    {
      "cell_type": "code",
      "source": [
        "0 in A"
      ],
      "metadata": {
        "colab": {
          "base_uri": "https://localhost:8080/"
        },
        "id": "Y9QdjckhAmfE",
        "outputId": "f0d5ea0e-f8e1-4ba1-b39c-3c61254f5d6c"
      },
      "execution_count": 15,
      "outputs": [
        {
          "output_type": "execute_result",
          "data": {
            "text/plain": [
              "True"
            ]
          },
          "metadata": {},
          "execution_count": 15
        }
      ]
    },
    {
      "cell_type": "code",
      "source": [
        "np.unique(A, return_counts=True)"
      ],
      "metadata": {
        "colab": {
          "base_uri": "https://localhost:8080/"
        },
        "id": "W5hJwbGy9GCJ",
        "outputId": "402c630a-e6dd-44c2-c73b-b025746590fc"
      },
      "execution_count": 22,
      "outputs": [
        {
          "output_type": "execute_result",
          "data": {
            "text/plain": [
              "(array([ 0,  1,  2,  3,  4,  5,  6,  7,  8,  9, 10, 11, 12, 13, 14, 15, 16,\n",
              "        17, 18, 19, 20, 21, 22, 23, 24, 25, 26, 27, 28, 29, 30, 31, 32, 33,\n",
              "        34, 35, 36, 37, 38, 39, 40, 41, 42, 43, 44, 45, 46, 47, 48, 49, 50,\n",
              "        51, 52, 53, 54, 55, 56, 57, 58, 59, 60, 61, 62, 63, 64, 65, 66, 67,\n",
              "        68, 69, 70, 71, 72, 73, 74, 75, 76, 77, 78, 79, 80, 81, 82, 83, 84,\n",
              "        85, 86, 87, 88, 89, 90, 91, 92, 93, 94, 95, 96, 97, 98, 99]),\n",
              " array([46, 38, 55, 55, 65, 57, 49, 44, 50, 56, 67, 44, 56, 45, 55, 56, 46,\n",
              "        46, 54, 38, 46, 35, 66, 54, 48, 45, 44, 42, 49, 63, 48, 47, 60, 45,\n",
              "        50, 44, 44, 40, 50, 53, 48, 56, 43, 53, 55, 52, 55, 44, 60, 62, 44,\n",
              "        57, 52, 39, 39, 52, 38, 37, 41, 45, 46, 54, 61, 58, 43, 49, 56, 53,\n",
              "        49, 53, 46, 39, 48, 49, 52, 47, 33, 34, 61, 50, 62, 41, 52, 46, 47,\n",
              "        58, 60, 47, 52, 51, 59, 56, 54, 54, 51, 55, 59, 61, 44, 43]))"
            ]
          },
          "metadata": {},
          "execution_count": 22
        }
      ]
    },
    {
      "cell_type": "code",
      "source": [
        "import collections\n",
        "collections.Counter(A)"
      ],
      "metadata": {
        "colab": {
          "base_uri": "https://localhost:8080/"
        },
        "collapsed": true,
        "id": "OQW9iyVXBNSc",
        "outputId": "f0f2cde1-3dc6-4deb-8d8b-f2d1a83a9184"
      },
      "execution_count": 23,
      "outputs": [
        {
          "output_type": "execute_result",
          "data": {
            "text/plain": [
              "Counter({30: 48,\n",
              "         48: 60,\n",
              "         72: 48,\n",
              "         94: 51,\n",
              "         3: 55,\n",
              "         49: 62,\n",
              "         1: 38,\n",
              "         56: 38,\n",
              "         28: 49,\n",
              "         68: 49,\n",
              "         14: 55,\n",
              "         78: 61,\n",
              "         79: 50,\n",
              "         54: 39,\n",
              "         33: 45,\n",
              "         74: 52,\n",
              "         16: 46,\n",
              "         10: 67,\n",
              "         90: 59,\n",
              "         20: 46,\n",
              "         66: 56,\n",
              "         50: 44,\n",
              "         62: 61,\n",
              "         4: 65,\n",
              "         25: 45,\n",
              "         64: 43,\n",
              "         80: 62,\n",
              "         65: 49,\n",
              "         47: 44,\n",
              "         81: 41,\n",
              "         88: 52,\n",
              "         42: 43,\n",
              "         37: 40,\n",
              "         85: 58,\n",
              "         22: 66,\n",
              "         8: 50,\n",
              "         97: 61,\n",
              "         43: 53,\n",
              "         51: 57,\n",
              "         45: 52,\n",
              "         96: 59,\n",
              "         61: 54,\n",
              "         11: 44,\n",
              "         31: 47,\n",
              "         82: 52,\n",
              "         91: 56,\n",
              "         15: 56,\n",
              "         92: 54,\n",
              "         12: 56,\n",
              "         53: 39,\n",
              "         24: 48,\n",
              "         52: 52,\n",
              "         19: 38,\n",
              "         6: 49,\n",
              "         5: 57,\n",
              "         63: 58,\n",
              "         70: 46,\n",
              "         38: 50,\n",
              "         98: 44,\n",
              "         83: 46,\n",
              "         34: 50,\n",
              "         46: 55,\n",
              "         29: 63,\n",
              "         73: 49,\n",
              "         26: 44,\n",
              "         99: 43,\n",
              "         7: 44,\n",
              "         58: 41,\n",
              "         67: 53,\n",
              "         21: 35,\n",
              "         18: 54,\n",
              "         44: 55,\n",
              "         9: 56,\n",
              "         2: 55,\n",
              "         69: 53,\n",
              "         87: 47,\n",
              "         36: 44,\n",
              "         86: 60,\n",
              "         60: 46,\n",
              "         57: 37,\n",
              "         71: 39,\n",
              "         27: 42,\n",
              "         40: 48,\n",
              "         93: 54,\n",
              "         76: 33,\n",
              "         39: 53,\n",
              "         0: 46,\n",
              "         41: 56,\n",
              "         13: 45,\n",
              "         35: 44,\n",
              "         95: 55,\n",
              "         59: 45,\n",
              "         84: 47,\n",
              "         75: 47,\n",
              "         89: 51,\n",
              "         17: 46,\n",
              "         23: 54,\n",
              "         55: 52,\n",
              "         32: 60,\n",
              "         77: 34})"
            ]
          },
          "metadata": {},
          "execution_count": 23
        }
      ]
    },
    {
      "cell_type": "code",
      "source": [
        "# avg in sample =~ avg of population\n",
        "# se - показатель рассеивания значений случайной величины отностильно ее мат ожидания"
      ],
      "metadata": {
        "id": "o2tD7AhrBtZ8"
      },
      "execution_count": 24,
      "outputs": []
    },
    {
      "cell_type": "code",
      "source": [
        "data = np.random.normal(10,5,2000) # avg, se\n",
        "data"
      ],
      "metadata": {
        "colab": {
          "base_uri": "https://localhost:8080/"
        },
        "id": "NTXdyHNGClyL",
        "outputId": "25621f27-9c5b-4497-ca2d-4d4303e969c8"
      },
      "execution_count": 27,
      "outputs": [
        {
          "output_type": "execute_result",
          "data": {
            "text/plain": [
              "array([19.47177263, 21.82462042,  6.63206086, ..., 16.88388998,\n",
              "        3.05315962, 19.68175739])"
            ]
          },
          "metadata": {},
          "execution_count": 27
        }
      ]
    },
    {
      "cell_type": "code",
      "source": [
        "plt.hist(data, bins = 20)\n",
        "plt.show()"
      ],
      "metadata": {
        "colab": {
          "base_uri": "https://localhost:8080/",
          "height": 430
        },
        "id": "ew2ltnqECuag",
        "outputId": "133cde59-d1e1-4056-ae0f-66ab28555545"
      },
      "execution_count": 28,
      "outputs": [
        {
          "output_type": "display_data",
          "data": {
            "text/plain": [
              "<Figure size 640x480 with 1 Axes>"
            ],
            "image/png": "[encoded data removed]"
          },
          "metadata": {}
        }
      ]
    },
    {
      "cell_type": "code",
      "source": [
        "print(f\"The average / mean is: {data.mean()} or {np.mean(data)}\")\n",
        "print(f'The Standard deviation is: {data.std()} or {np.std(data)}')"
      ],
      "metadata": {
        "colab": {
          "base_uri": "https://localhost:8080/"
        },
        "id": "xl37nd7XDAsx",
        "outputId": "54a43f4f-5710-41d7-c33c-8870d863cf65"
      },
      "execution_count": 30,
      "outputs": [
        {
          "output_type": "stream",
          "name": "stdout",
          "text": [
            "The average / mean is: 10.08729135758376 or 10.08729135758376\n",
            "The Standard deviation is: 5.187445254415086 or 5.187445254415086\n"
          ]
        }
      ]
    },
    {
      "cell_type": "code",
      "source": [
        "import numpy as np\n",
        "\n",
        "# Условия\n",
        "n = 30\n",
        "total_sum = 1440364\n",
        "max_value = 499000\n",
        "min_value = 12600\n",
        "\n",
        "# Генерация ряда\n",
        "def generate_sequence(n, total_sum, min_value, max_value):\n",
        "    # Генерируем случайные значения и нормализуем их\n",
        "    random_values = np.random.random(n)\n",
        "    normalized = random_values / random_values.sum() * total_sum\n",
        "\n",
        "    # Округляем и ограничиваем значения\n",
        "    sequence = np.clip(np.round(normalized), min_value, max_value).astype(int)\n",
        "\n",
        "    # Корректируем сумму\n",
        "    while sequence.sum() != total_sum:\n",
        "        diff = total_sum - sequence.sum()\n",
        "        idx = np.random.randint(0, n)\n",
        "        if diff > 0 and sequence[idx] < max_value:\n",
        "            sequence[idx] += 1\n",
        "        elif diff < 0 and sequence[idx] > min_value:\n",
        "            sequence[idx] -= 1\n",
        "\n",
        "    return sequence\n",
        "\n",
        "# Генерация и вывод\n",
        "sequence = generate_sequence(n, total_sum, min_value, max_value)\n",
        "print(sequence)\n"
      ],
      "metadata": {
        "id": "y7t4g_-_GnLR"
      },
      "execution_count": null,
      "outputs": []
    },
    {
      "cell_type": "code",
      "source": [
        "def generate_sample(n, tot_sum, max_value, min_value):\n",
        "  random_v = np.random.random(n)\n",
        "  v_norm = random_v / random_v.sum() * tot_sum\n",
        "\n",
        "  sample = np.clip(np.round(v_norm), min_value, min_value).astype(int)\n",
        "\n",
        "  while sample.sum != tot_sum:\n",
        "    diff = tot_sum - sample.sum()\n",
        "    idx = np.random.randint(0, n)\n",
        "\n",
        "    if diff > 0 and sample[idx] < max_value:\n",
        "      sample[idx] +=1\n",
        "    elif diff < 0 and sample[idx] > min_value:\n",
        "      sample[idx] -= 1\n",
        "  return sample\n",
        "\n",
        "n = 30\n",
        "tot_sum = 1440364\n",
        "max_value = 499000\n",
        "min_value = 12600\n",
        "\n",
        "sample = generate_sample(n, tot_sum, min_value, max_value)\n",
        "print(sample)"
      ],
      "metadata": {
        "colab": {
          "base_uri": "https://localhost:8080/",
          "height": 339
        },
        "id": "m5i8HDRHGw5a",
        "outputId": "8ed45e5e-1ab4-4ec8-da1b-52800fc1933f"
      },
      "execution_count": 34,
      "outputs": [
        {
          "output_type": "error",
          "ename": "KeyboardInterrupt",
          "evalue": "",
          "traceback": [
            "\u001b[0;31m---------------------------------------------------------------------------\u001b[0m",
            "\u001b[0;31mKeyboardInterrupt\u001b[0m                         Traceback (most recent call last)",
            "\u001b[0;32m<ipython-input-34-535a0ba7a64b>\u001b[0m in \u001b[0;36m<cell line: 22>\u001b[0;34m()\u001b[0m\n\u001b[1;32m     20\u001b[0m \u001b[0mmin_value\u001b[0m \u001b[0;34m=\u001b[0m \u001b[0;36m12600\u001b[0m\u001b[0;34m\u001b[0m\u001b[0;34m\u001b[0m\u001b[0m\n\u001b[1;32m     21\u001b[0m \u001b[0;34m\u001b[0m\u001b[0m\n\u001b[0;32m---> 22\u001b[0;31m \u001b[0msample\u001b[0m \u001b[0;34m=\u001b[0m \u001b[0mgenerate_sample\u001b[0m\u001b[0;34m(\u001b[0m\u001b[0mn\u001b[0m\u001b[0;34m,\u001b[0m \u001b[0mtot_sum\u001b[0m\u001b[0;34m,\u001b[0m \u001b[0mmin_value\u001b[0m\u001b[0;34m,\u001b[0m \u001b[0mmax_value\u001b[0m\u001b[0;34m)\u001b[0m\u001b[0;34m\u001b[0m\u001b[0;34m\u001b[0m\u001b[0m\n\u001b[0m\u001b[1;32m     23\u001b[0m \u001b[0mprint\u001b[0m\u001b[0;34m(\u001b[0m\u001b[0msample\u001b[0m\u001b[0;34m)\u001b[0m\u001b[0;34m\u001b[0m\u001b[0;34m\u001b[0m\u001b[0m\n",
            "\u001b[0;32m<ipython-input-34-535a0ba7a64b>\u001b[0m in \u001b[0;36mgenerate_sample\u001b[0;34m(n, tot_sum, max_value, min_value)\u001b[0m\n\u001b[1;32m      6\u001b[0m \u001b[0;34m\u001b[0m\u001b[0m\n\u001b[1;32m      7\u001b[0m   \u001b[0;32mwhile\u001b[0m \u001b[0msample\u001b[0m\u001b[0;34m.\u001b[0m\u001b[0msum\u001b[0m \u001b[0;34m!=\u001b[0m \u001b[0mtot_sum\u001b[0m\u001b[0;34m:\u001b[0m\u001b[0;34m\u001b[0m\u001b[0;34m\u001b[0m\u001b[0m\n\u001b[0;32m----> 8\u001b[0;31m     \u001b[0mdiff\u001b[0m \u001b[0;34m=\u001b[0m \u001b[0mtot_sum\u001b[0m \u001b[0;34m-\u001b[0m \u001b[0msample\u001b[0m\u001b[0;34m.\u001b[0m\u001b[0msum\u001b[0m\u001b[0;34m(\u001b[0m\u001b[0;34m)\u001b[0m\u001b[0;34m\u001b[0m\u001b[0;34m\u001b[0m\u001b[0m\n\u001b[0m\u001b[1;32m      9\u001b[0m     \u001b[0midx\u001b[0m \u001b[0;34m=\u001b[0m \u001b[0mnp\u001b[0m\u001b[0;34m.\u001b[0m\u001b[0mrandom\u001b[0m\u001b[0;34m.\u001b[0m\u001b[0mrandint\u001b[0m\u001b[0;34m(\u001b[0m\u001b[0;36m0\u001b[0m\u001b[0;34m,\u001b[0m \u001b[0mn\u001b[0m\u001b[0;34m)\u001b[0m\u001b[0;34m\u001b[0m\u001b[0;34m\u001b[0m\u001b[0m\n\u001b[1;32m     10\u001b[0m \u001b[0;34m\u001b[0m\u001b[0m\n",
            "\u001b[0;32m/usr/local/lib/python3.10/dist-packages/numpy/core/_methods.py\u001b[0m in \u001b[0;36m_sum\u001b[0;34m(a, axis, dtype, out, keepdims, initial, where)\u001b[0m\n\u001b[1;32m     47\u001b[0m def _sum(a, axis=None, dtype=None, out=None, keepdims=False,\n\u001b[1;32m     48\u001b[0m          initial=_NoValue, where=True):\n\u001b[0;32m---> 49\u001b[0;31m     \u001b[0;32mreturn\u001b[0m \u001b[0mumr_sum\u001b[0m\u001b[0;34m(\u001b[0m\u001b[0ma\u001b[0m\u001b[0;34m,\u001b[0m \u001b[0maxis\u001b[0m\u001b[0;34m,\u001b[0m \u001b[0mdtype\u001b[0m\u001b[0;34m,\u001b[0m \u001b[0mout\u001b[0m\u001b[0;34m,\u001b[0m \u001b[0mkeepdims\u001b[0m\u001b[0;34m,\u001b[0m \u001b[0minitial\u001b[0m\u001b[0;34m,\u001b[0m \u001b[0mwhere\u001b[0m\u001b[0;34m)\u001b[0m\u001b[0;34m\u001b[0m\u001b[0;34m\u001b[0m\u001b[0m\n\u001b[0m\u001b[1;32m     50\u001b[0m \u001b[0;34m\u001b[0m\u001b[0m\n\u001b[1;32m     51\u001b[0m def _prod(a, axis=None, dtype=None, out=None, keepdims=False,\n",
            "\u001b[0;31mKeyboardInterrupt\u001b[0m: "
          ]
        }
      ]
    },
    {
      "cell_type": "code",
      "source": [
        "s = np.array([12600, 12600, 12600, 499000, 12600, 48012, 48012, 12600, 48012, 12600,\n",
        " 12600, 12600, 48012, 12600, 12600, 48012, 12600, 48012, 12600, 48012,\n",
        " 499000, 12600, 12600, 12600, 48012, 12600, 12600, 12600, 12600, 12600])\n",
        "\n",
        "print(f\"The number of stuff: {len(s)}\")\n",
        "print(f\"The total sim of salairies: {s.sum()}\")\n",
        "print(f\"Minimal salary: {s.min()}\")\n",
        "print(f\"Maximal salary: {s.max()}\")\n",
        "print(f'The averagesalary: {s.mean()}')"
      ],
      "metadata": {
        "colab": {
          "base_uri": "https://localhost:8080/"
        },
        "id": "Aq_XjvvLCJrj",
        "outputId": "96f4bb50-8aab-4e4e-ed7c-a9c433148650"
      },
      "execution_count": 35,
      "outputs": [
        {
          "output_type": "stream",
          "name": "stdout",
          "text": [
            "The number of stuff: 30\n",
            "The total sim of salairies: 1634096\n",
            "Minimal salary: 12600\n",
            "Maximal salary: 499000\n",
            "The averagesalary: 54469.86666666667\n"
          ]
        }
      ]
    },
    {
      "cell_type": "code",
      "source": [
        "plt.hist(s,bins=20)\n",
        "plt.show()"
      ],
      "metadata": {
        "colab": {
          "base_uri": "https://localhost:8080/",
          "height": 430
        },
        "id": "6lrzvfDcLKmJ",
        "outputId": "073cd543-7912-4d15-b8f3-a3c84dff5b18"
      },
      "execution_count": 36,
      "outputs": [
        {
          "output_type": "display_data",
          "data": {
            "text/plain": [
              "<Figure size 640x480 with 1 Axes>"
            ],
            "image/png": "[encoded data removed]"
          },
          "metadata": {}
        }
      ]
    },
    {
      "cell_type": "code",
      "source": [
        "print(f'The 1st quantile {np.quantile(s,0.25)}')\n",
        "print(f'The median salary value {np.median(s)}')\n",
        "print(f'The 1st quantile {np.quantile(s,0.75)}')"
      ],
      "metadata": {
        "colab": {
          "base_uri": "https://localhost:8080/"
        },
        "id": "9rR5wcC-LSYO",
        "outputId": "c3b4c195-8b02-43f2-a7b8-492e3da6ded8"
      },
      "execution_count": 37,
      "outputs": [
        {
          "output_type": "stream",
          "name": "stdout",
          "text": [
            "The 1st quantile 12600.0\n",
            "The median salary value 12600.0\n",
            "The 1st quantile 48012.0\n"
          ]
        }
      ]
    },
    {
      "cell_type": "code",
      "source": [
        "plt.boxplot(s)\n",
        "plt.axis(ymin=0, ymax=1000000)\n",
        "plt.show()"
      ],
      "metadata": {
        "colab": {
          "base_uri": "https://localhost:8080/",
          "height": 445
        },
        "id": "mGJaKNOtMLxO",
        "outputId": "5d3efdd8-18b7-4e03-a2b4-dbeece3af57d"
      },
      "execution_count": 41,
      "outputs": [
        {
          "output_type": "display_data",
          "data": {
            "text/plain": [
              "<Figure size 640x480 with 1 Axes>"
            ],
            "image/png": "[encoded data removed]"
          },
          "metadata": {}
        }
      ]
    },
    {
      "cell_type": "code",
      "source": [
        "A = np.zeros(shape=(3,5), dtype=np.int32)\n",
        "print(A)"
      ],
      "metadata": {
        "colab": {
          "base_uri": "https://localhost:8080/"
        },
        "id": "162dTXYUMhN5",
        "outputId": "1fe43477-ed72-4250-99d5-a6afb07dff25"
      },
      "execution_count": 43,
      "outputs": [
        {
          "output_type": "stream",
          "name": "stdout",
          "text": [
            "[[0 0 0 0 0]\n",
            " [0 0 0 0 0]\n",
            " [0 0 0 0 0]]\n"
          ]
        }
      ]
    },
    {
      "cell_type": "code",
      "source": [
        "A = np.arange(0,60)\n",
        "print(A)"
      ],
      "metadata": {
        "colab": {
          "base_uri": "https://localhost:8080/"
        },
        "id": "IUym-r8kNq_J",
        "outputId": "74cf7cac-4f90-4e77-8a27-991d2ec747ab"
      },
      "execution_count": 44,
      "outputs": [
        {
          "output_type": "stream",
          "name": "stdout",
          "text": [
            "[ 0  1  2  3  4  5  6  7  8  9 10 11 12 13 14 15 16 17 18 19 20 21 22 23\n",
            " 24 25 26 27 28 29 30 31 32 33 34 35 36 37 38 39 40 41 42 43 44 45 46 47\n",
            " 48 49 50 51 52 53 54 55 56 57 58 59]\n"
          ]
        }
      ]
    },
    {
      "cell_type": "code",
      "source": [
        "A = A.reshape(6,10)\n",
        "print(A)"
      ],
      "metadata": {
        "colab": {
          "base_uri": "https://localhost:8080/"
        },
        "id": "Z_QhCuEoNyuj",
        "outputId": "02cc5ab6-8a08-49e9-ad68-1c78ef8a8f78"
      },
      "execution_count": 45,
      "outputs": [
        {
          "output_type": "stream",
          "name": "stdout",
          "text": [
            "[[ 0  1  2  3  4  5  6  7  8  9]\n",
            " [10 11 12 13 14 15 16 17 18 19]\n",
            " [20 21 22 23 24 25 26 27 28 29]\n",
            " [30 31 32 33 34 35 36 37 38 39]\n",
            " [40 41 42 43 44 45 46 47 48 49]\n",
            " [50 51 52 53 54 55 56 57 58 59]]\n"
          ]
        }
      ]
    },
    {
      "cell_type": "code",
      "source": [
        "np.zeros_like(A)"
      ],
      "metadata": {
        "colab": {
          "base_uri": "https://localhost:8080/"
        },
        "id": "dAGuwvxsN2kd",
        "outputId": "b7b5b6f3-679b-49e5-c7f1-d5db1271df0b"
      },
      "execution_count": 46,
      "outputs": [
        {
          "output_type": "execute_result",
          "data": {
            "text/plain": [
              "array([[0, 0, 0, 0, 0, 0, 0, 0, 0, 0],\n",
              "       [0, 0, 0, 0, 0, 0, 0, 0, 0, 0],\n",
              "       [0, 0, 0, 0, 0, 0, 0, 0, 0, 0],\n",
              "       [0, 0, 0, 0, 0, 0, 0, 0, 0, 0],\n",
              "       [0, 0, 0, 0, 0, 0, 0, 0, 0, 0],\n",
              "       [0, 0, 0, 0, 0, 0, 0, 0, 0, 0]])"
            ]
          },
          "metadata": {},
          "execution_count": 46
        }
      ]
    },
    {
      "cell_type": "code",
      "source": [
        "np.eye(5)"
      ],
      "metadata": {
        "colab": {
          "base_uri": "https://localhost:8080/"
        },
        "id": "0ffd0Vw3N-ht",
        "outputId": "9936a1c6-6a8b-42e4-b36f-770a5a5ea18f"
      },
      "execution_count": 48,
      "outputs": [
        {
          "output_type": "execute_result",
          "data": {
            "text/plain": [
              "array([[1., 0., 0., 0., 0.],\n",
              "       [0., 1., 0., 0., 0.],\n",
              "       [0., 0., 1., 0., 0.],\n",
              "       [0., 0., 0., 1., 0.],\n",
              "       [0., 0., 0., 0., 1.]])"
            ]
          },
          "metadata": {},
          "execution_count": 48
        }
      ]
    },
    {
      "cell_type": "code",
      "source": [
        "A[2:5, # rows 2,3,4\n",
        "  2:7] # columns 2,3,4,5,6"
      ],
      "metadata": {
        "colab": {
          "base_uri": "https://localhost:8080/"
        },
        "id": "W34QwyFfNihL",
        "outputId": "d1c917de-3b31-4c39-e3a9-bd9a96879787"
      },
      "execution_count": 49,
      "outputs": [
        {
          "output_type": "execute_result",
          "data": {
            "text/plain": [
              "array([[22, 23, 24, 25, 26],\n",
              "       [32, 33, 34, 35, 36],\n",
              "       [42, 43, 44, 45, 46]])"
            ]
          },
          "metadata": {},
          "execution_count": 49
        }
      ]
    },
    {
      "cell_type": "code",
      "source": [
        "A[2:5] # rows 2,3,4"
      ],
      "metadata": {
        "colab": {
          "base_uri": "https://localhost:8080/"
        },
        "id": "_QgbD8MwP3XI",
        "outputId": "35462e5a-5e7c-4a3d-eb39-ebbaa60da045"
      },
      "execution_count": 50,
      "outputs": [
        {
          "output_type": "execute_result",
          "data": {
            "text/plain": [
              "array([[20, 21, 22, 23, 24, 25, 26, 27, 28, 29],\n",
              "       [30, 31, 32, 33, 34, 35, 36, 37, 38, 39],\n",
              "       [40, 41, 42, 43, 44, 45, 46, 47, 48, 49]])"
            ]
          },
          "metadata": {},
          "execution_count": 50
        }
      ]
    },
    {
      "cell_type": "code",
      "source": [
        "A[:,\n",
        "  2:7]# columns 2,3,4,5,6"
      ],
      "metadata": {
        "colab": {
          "base_uri": "https://localhost:8080/"
        },
        "id": "dKTZ4UX6QCPB",
        "outputId": "0e36f939-020f-49cf-98c0-9250ad692a85"
      },
      "execution_count": 51,
      "outputs": [
        {
          "output_type": "execute_result",
          "data": {
            "text/plain": [
              "array([[ 2,  3,  4,  5,  6],\n",
              "       [12, 13, 14, 15, 16],\n",
              "       [22, 23, 24, 25, 26],\n",
              "       [32, 33, 34, 35, 36],\n",
              "       [42, 43, 44, 45, 46],\n",
              "       [52, 53, 54, 55, 56]])"
            ]
          },
          "metadata": {},
          "execution_count": 51
        }
      ]
    },
    {
      "cell_type": "code",
      "source": [
        "row, col = 3, 5\n",
        "A[:row, :col]"
      ],
      "metadata": {
        "colab": {
          "base_uri": "https://localhost:8080/"
        },
        "id": "f7dkYnBjQFr0",
        "outputId": "b0f44f1f-191d-4246-c218-fa116b5e7dc1"
      },
      "execution_count": 52,
      "outputs": [
        {
          "output_type": "execute_result",
          "data": {
            "text/plain": [
              "array([[ 0,  1,  2,  3,  4],\n",
              "       [10, 11, 12, 13, 14],\n",
              "       [20, 21, 22, 23, 24]])"
            ]
          },
          "metadata": {},
          "execution_count": 52
        }
      ]
    },
    {
      "cell_type": "code",
      "source": [
        "row, col = 3, 5\n",
        "A[row:, :col]"
      ],
      "metadata": {
        "colab": {
          "base_uri": "https://localhost:8080/"
        },
        "id": "_rcArrFjQSnB",
        "outputId": "52e3412c-e15a-4ecb-855f-151ccc0f12c2"
      },
      "execution_count": 56,
      "outputs": [
        {
          "output_type": "execute_result",
          "data": {
            "text/plain": [
              "array([[30, 31, 32, 33, 34],\n",
              "       [40, 41, 42, 43, 44],\n",
              "       [50, 51, 52, 53, 54]])"
            ]
          },
          "metadata": {},
          "execution_count": 56
        }
      ]
    },
    {
      "cell_type": "code",
      "source": [
        "row, col = 3, 5\n",
        "A[row:, col:]"
      ],
      "metadata": {
        "colab": {
          "base_uri": "https://localhost:8080/"
        },
        "id": "elK0RO5WQT_3",
        "outputId": "ac4a8448-ed72-4ab7-aa33-8a88f19c1611"
      },
      "execution_count": 55,
      "outputs": [
        {
          "output_type": "execute_result",
          "data": {
            "text/plain": [
              "array([[35, 36, 37, 38, 39],\n",
              "       [45, 46, 47, 48, 49],\n",
              "       [55, 56, 57, 58, 59]])"
            ]
          },
          "metadata": {},
          "execution_count": 55
        }
      ]
    },
    {
      "cell_type": "code",
      "source": [
        "# [start:stop:step]"
      ],
      "metadata": {
        "id": "bJ33554NQdfc"
      },
      "execution_count": null,
      "outputs": []
    },
    {
      "cell_type": "code",
      "source": [
        "A = np.arange(60).reshape(6,10)\n",
        "print(A)\n",
        "print(\"--*--\"*10)\n",
        "A[:, 4] = range(111, 700, 111)\n",
        "print(A)"
      ],
      "metadata": {
        "colab": {
          "base_uri": "https://localhost:8080/"
        },
        "id": "Lz-IPIrBQVND",
        "outputId": "36c101cc-fa30-4c29-d716-25422a5c6d2c"
      },
      "execution_count": 62,
      "outputs": [
        {
          "output_type": "stream",
          "name": "stdout",
          "text": [
            "[[ 0  1  2  3  4  5  6  7  8  9]\n",
            " [10 11 12 13 14 15 16 17 18 19]\n",
            " [20 21 22 23 24 25 26 27 28 29]\n",
            " [30 31 32 33 34 35 36 37 38 39]\n",
            " [40 41 42 43 44 45 46 47 48 49]\n",
            " [50 51 52 53 54 55 56 57 58 59]]\n",
            "--*----*----*----*----*----*----*----*----*----*--\n",
            "[[  0   1   2   3 111   5   6   7   8   9]\n",
            " [ 10  11  12  13 222  15  16  17  18  19]\n",
            " [ 20  21  22  23 333  25  26  27  28  29]\n",
            " [ 30  31  32  33 444  35  36  37  38  39]\n",
            " [ 40  41  42  43 555  45  46  47  48  49]\n",
            " [ 50  51  52  53 666  55  56  57  58  59]]\n"
          ]
        }
      ]
    },
    {
      "cell_type": "code",
      "source": [
        "%time\n",
        "A = np.arange(60).reshape(6,10)\n",
        "A[1::2,:] = np.zeros((3,10))\n",
        "print(A)"
      ],
      "metadata": {
        "colab": {
          "base_uri": "https://localhost:8080/"
        },
        "id": "IuJqWNr1RE79",
        "outputId": "83c50054-e1d3-47f5-aae6-466d860584f2"
      },
      "execution_count": 65,
      "outputs": [
        {
          "output_type": "stream",
          "name": "stdout",
          "text": [
            "CPU times: user 3 µs, sys: 0 ns, total: 3 µs\n",
            "Wall time: 6.68 µs\n",
            "[[ 0  1  2  3  4  5  6  7  8  9]\n",
            " [ 0  0  0  0  0  0  0  0  0  0]\n",
            " [20 21 22 23 24 25 26 27 28 29]\n",
            " [ 0  0  0  0  0  0  0  0  0  0]\n",
            " [40 41 42 43 44 45 46 47 48 49]\n",
            " [ 0  0  0  0  0  0  0  0  0  0]]\n"
          ]
        }
      ]
    },
    {
      "cell_type": "code",
      "source": [
        "import time\n",
        "a = np.array(range(100_000_000))\n",
        "moment1 = time.perf_counter()\n",
        "\n",
        "a[::-1] = a\n",
        "moment2 = time.perf_counter()\n",
        "print(moment2 - moment1)"
      ],
      "metadata": {
        "colab": {
          "base_uri": "https://localhost:8080/"
        },
        "id": "MeEqR59GRnCr",
        "outputId": "3720209e-965f-4c72-f1f8-55d83254e926"
      },
      "execution_count": 66,
      "outputs": [
        {
          "output_type": "stream",
          "name": "stdout",
          "text": [
            "0.4375225860003411\n"
          ]
        }
      ]
    },
    {
      "cell_type": "code",
      "source": [
        "from timeit import timeit\n"
      ],
      "metadata": {
        "id": "ddCeoaxGTTil"
      },
      "execution_count": 67,
      "outputs": []
    },
    {
      "cell_type": "code",
      "source": [
        "timeit('a[::-1] = a', 'a = list(range(1000000))', number = 100)"
      ],
      "metadata": {
        "colab": {
          "base_uri": "https://localhost:8080/"
        },
        "id": "KVjBXveGUbmt",
        "outputId": "9e27ea79-6442-47f9-8498-82d5f0d32486"
      },
      "execution_count": 69,
      "outputs": [
        {
          "output_type": "execute_result",
          "data": {
            "text/plain": [
              "3.2880321169996023"
            ]
          },
          "metadata": {},
          "execution_count": 69
        }
      ]
    },
    {
      "cell_type": "code",
      "source": [
        "a = np.random.poisson(lam=15, size = 10_000)\n",
        "a.shape\n",
        "\n",
        "plt.hist(a,bins=50)\n",
        "plt.show()"
      ],
      "metadata": {
        "colab": {
          "base_uri": "https://localhost:8080/",
          "height": 430
        },
        "id": "2VATPuDFUnLo",
        "outputId": "ff24f5f6-a1e3-4bfd-c9ae-b1d475ee5803"
      },
      "execution_count": 74,
      "outputs": [
        {
          "output_type": "display_data",
          "data": {
            "text/plain": [
              "<Figure size 640x480 with 1 Axes>"
            ],
            "image/png": "[encoded data removed]"
          },
          "metadata": {}
        }
      ]
    },
    {
      "cell_type": "code",
      "source": [],
      "metadata": {
        "id": "EZ6ZkWX8VfWy"
      },
      "execution_count": null,
      "outputs": []
    }
  ]
}